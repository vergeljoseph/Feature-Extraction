{
 "cells": [
  {
   "cell_type": "code",
   "execution_count": 997,
   "metadata": {
    "collapsed": true
   },
   "outputs": [],
   "source": [
    "from nltk.corpus import stopwords\n",
    "import re\n",
    "import math"
   ]
  },
  {
   "cell_type": "code",
   "execution_count": 998,
   "metadata": {
    "collapsed": true
   },
   "outputs": [],
   "source": [
    "stop = set(stopwords.words('english'))"
   ]
  },
  {
   "cell_type": "code",
   "execution_count": 999,
   "metadata": {
    "collapsed": true
   },
   "outputs": [],
   "source": [
    "sentence_array = []\n",
    "with open('dict_1.txt') as my_file:\n",
    "    for line in my_file:\n",
    "        line = line.strip()\n",
    "        sentence_array.append(line)"
   ]
  },
  {
   "cell_type": "code",
   "execution_count": 1000,
   "metadata": {
    "collapsed": true
   },
   "outputs": [],
   "source": [
    "splitted_array = []\n",
    "for item in range(len(sentence_array)):\n",
    "    splitted_array.append(sentence_array[item].split(\" \"))"
   ]
  },
  {
   "cell_type": "code",
   "execution_count": 1001,
   "metadata": {
    "collapsed": true
   },
   "outputs": [],
   "source": [
    "# wordSet = set(bowA).union(set(bowB))\n",
    "wordset = []\n",
    "for item in range(len(splitted_array)):\n",
    "    nextVal = item + 1\n",
    "    if nextVal < len(splitted_array):\n",
    "        wordset = set(wordset).union(set(splitted_array[item]).union(set(splitted_array[item + 1])))"
   ]
  },
  {
   "cell_type": "code",
   "execution_count": 1002,
   "metadata": {
    "collapsed": true
   },
   "outputs": [],
   "source": [
    "wordset.remove('')"
   ]
  },
  {
   "cell_type": "code",
   "execution_count": 1003,
   "metadata": {
    "collapsed": true
   },
   "outputs": [],
   "source": [
    "wordDict = []\n",
    "for items in range(len(splitted_array)):\n",
    "    wordDict.append(dict.fromkeys(wordset, 0))"
   ]
  },
  {
   "cell_type": "code",
   "execution_count": 1004,
   "metadata": {},
   "outputs": [],
   "source": [
    "for word in wordset:\n",
    "    for idx, sa in enumerate(splitted_array):\n",
    "        if word in sa:\n",
    "            wordDict[idx][word] = sa.count(word)/float(len(splitted_array[idx]))"
   ]
  },
  {
   "cell_type": "code",
   "execution_count": 1005,
   "metadata": {},
   "outputs": [],
   "source": [
    "#  pd.DataFrame(wordDict)"
   ]
  },
  {
   "cell_type": "code",
   "execution_count": 1006,
   "metadata": {},
   "outputs": [],
   "source": [
    "idfs = {}\n",
    "N = len(splitted_array)\n",
    "\n",
    "idfs = dict.fromkeys(wordset, 0)\n",
    "\n",
    "for word in wordset:\n",
    "    for idx, sa in enumerate(splitted_array):\n",
    "        if word in sa:\n",
    "            idfs[word]+=1\n",
    "\n",
    "for key, value in idfs.iteritems():\n",
    "    idfs[key] = math.log(N/float(value))"
   ]
  },
  {
   "cell_type": "code",
   "execution_count": 1007,
   "metadata": {},
   "outputs": [],
   "source": [
    "wordDictTFIDF = []\n",
    "for items in range(len(splitted_array)):\n",
    "    wordDictTFIDF.append(dict.fromkeys(wordset, 0))\n",
    "\n",
    "for word in wordset:\n",
    "    for idx, sa in enumerate(splitted_array):\n",
    "        wordDictTFIDF[idx][word] = wordDict[idx][word]/(float(idfs[word]))"
   ]
  },
  {
   "cell_type": "code",
   "execution_count": 1008,
   "metadata": {},
   "outputs": [],
   "source": [
    "df = pd.DataFrame(wordDictTFIDF)"
   ]
  },
  {
   "cell_type": "code",
   "execution_count": 1009,
   "metadata": {},
   "outputs": [],
   "source": [
    "df.to_csv('tf-idf.csv', encoding='utf-8', index=False)"
   ]
  },
  {
   "cell_type": "code",
   "execution_count": null,
   "metadata": {
    "collapsed": true
   },
   "outputs": [],
   "source": []
  }
 ],
 "metadata": {
  "kernelspec": {
   "display_name": "Python 2",
   "language": "python",
   "name": "python2"
  },
  "language_info": {
   "codemirror_mode": {
    "name": "ipython",
    "version": 2
   },
   "file_extension": ".py",
   "mimetype": "text/x-python",
   "name": "python",
   "nbconvert_exporter": "python",
   "pygments_lexer": "ipython2",
   "version": "2.7.14"
  }
 },
 "nbformat": 4,
 "nbformat_minor": 2
}
