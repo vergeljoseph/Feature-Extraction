{
 "cells": [
  {
   "cell_type": "code",
   "execution_count": 8,
   "metadata": {},
   "outputs": [
    {
     "ename": "ImportError",
     "evalue": "No module named watson_developer_cloud",
     "output_type": "error",
     "traceback": [
      "\u001b[1;31m---------------------------------------------------------------------------\u001b[0m",
      "\u001b[1;31mImportError\u001b[0m                               Traceback (most recent call last)",
      "\u001b[1;32m<ipython-input-8-3f287503c85f>\u001b[0m in \u001b[0;36m<module>\u001b[1;34m()\u001b[0m\n\u001b[0;32m      4\u001b[0m \u001b[1;32mfrom\u001b[0m \u001b[0mnltk\u001b[0m \u001b[1;32mimport\u001b[0m \u001b[0mword_tokenize\u001b[0m\u001b[1;33m\u001b[0m\u001b[0m\n\u001b[0;32m      5\u001b[0m \u001b[1;32mfrom\u001b[0m \u001b[0mnltk\u001b[0m\u001b[1;33m.\u001b[0m\u001b[0mcorpus\u001b[0m \u001b[1;32mimport\u001b[0m \u001b[0mstopwords\u001b[0m\u001b[1;33m\u001b[0m\u001b[0m\n\u001b[1;32m----> 6\u001b[1;33m \u001b[1;32mfrom\u001b[0m \u001b[0mwatson_developer_cloud\u001b[0m \u001b[1;32mimport\u001b[0m \u001b[0mNaturalLanguageUnderstandingV1\u001b[0m\u001b[1;33m\u001b[0m\u001b[0m\n\u001b[0m\u001b[0;32m      7\u001b[0m \u001b[1;32mfrom\u001b[0m \u001b[0mwatson_developer_cloud\u001b[0m\u001b[1;33m.\u001b[0m\u001b[0mnatural_language_understanding_v1\u001b[0m   \u001b[1;32mimport\u001b[0m \u001b[0mFeatures\u001b[0m\u001b[1;33m,\u001b[0m \u001b[0mEmotionOptions\u001b[0m\u001b[1;33m,\u001b[0m \u001b[0mSentimentOptions\u001b[0m\u001b[1;33m\u001b[0m\u001b[0m\n",
      "\u001b[1;31mImportError\u001b[0m: No module named watson_developer_cloud"
     ]
    }
   ],
   "source": [
    "import io\n",
    "import string\n",
    "import json, csv\n",
    "from nltk import word_tokenize\n",
    "from nltk.corpus import stopwords\n",
    "from watson_developer_cloud import NaturalLanguageUnderstandingV1\n",
    "from watson_developer_cloud.natural_language_understanding_v1 \\\n",
    "  import Features, EmotionOptions, SentimentOptions\n"
   ]
  },
  {
   "cell_type": "code",
   "execution_count": 3,
   "metadata": {
    "collapsed": true
   },
   "outputs": [],
   "source": [
    "def initOutput(fileName):\n",
    "  fileName = fileName.strip(\".txt\")\n",
    "  fileOut = fileName + \".csv\"\n",
    "  f = csv.writer(open(fileOut, \"wb+\"))\n",
    "  f.writerow([\"tweet\", \n",
    "              \"emotion_joy\", \n",
    "              \"emotion_anger\", \n",
    "              \"emotion_sadness\", \n",
    "              \"emotion_fear\", \n",
    "              \"sentiment_score\", \n",
    "              \"no_of_words\"])\n",
    "  return f"
   ]
  },
  {
   "cell_type": "code",
   "execution_count": 4,
   "metadata": {
    "collapsed": true
   },
   "outputs": [],
   "source": [
    "# GET EMOTION AND SENTIMENT #\n",
    "def getEmotion(line, f):\n",
    "  natural_language_understanding = NaturalLanguageUnderstandingV1(\n",
    "    username='8f8f6353-8198-4241-a106-449c097a7970',\n",
    "    password='OXyWnrd5fA0z',\n",
    "    version='2018-03-16')\n",
    "\n",
    "  wordCount = len(line.split(\" \"))\n",
    "  response = natural_language_understanding.analyze(\n",
    "    language =\"en\",\n",
    "    text = line,\n",
    "    features=Features(\n",
    "      emotion=EmotionOptions(),\n",
    "      sentiment=SentimentOptions()))\n",
    "\n",
    "  f.writerow([line,\n",
    "              response['emotion']['document']['emotion']['joy'],\n",
    "              response['emotion']['document']['emotion']['anger'],\n",
    "              response['emotion']['document']['emotion']['sadness'],\n",
    "              response['emotion']['document']['emotion']['fear'],\n",
    "              response['sentiment']['document']['score'],\n",
    "              response['sentiment']['document']['label'],\n",
    "              wordCount])"
   ]
  },
  {
   "cell_type": "code",
   "execution_count": 5,
   "metadata": {},
   "outputs": [
    {
     "ename": "IOError",
     "evalue": "[Errno 2] No such file or directory: '18thOfJuly.txt'",
     "output_type": "error",
     "traceback": [
      "\u001b[1;31m---------------------------------------------------------------------------\u001b[0m",
      "\u001b[1;31mIOError\u001b[0m                                   Traceback (most recent call last)",
      "\u001b[1;32m<ipython-input-5-8db3a2c22c2b>\u001b[0m in \u001b[0;36m<module>\u001b[1;34m()\u001b[0m\n\u001b[0;32m      3\u001b[0m \u001b[0mfileOut\u001b[0m \u001b[1;33m=\u001b[0m \u001b[0minitOutput\u001b[0m\u001b[1;33m(\u001b[0m\u001b[0mfileIn\u001b[0m\u001b[1;33m)\u001b[0m\u001b[1;33m\u001b[0m\u001b[0m\n\u001b[0;32m      4\u001b[0m \u001b[1;33m\u001b[0m\u001b[0m\n\u001b[1;32m----> 5\u001b[1;33m \u001b[1;32mwith\u001b[0m \u001b[0mopen\u001b[0m\u001b[1;33m(\u001b[0m\u001b[0mfileIn\u001b[0m\u001b[1;33m)\u001b[0m \u001b[1;32mas\u001b[0m \u001b[0mfp\u001b[0m\u001b[1;33m:\u001b[0m\u001b[1;33m\u001b[0m\u001b[0m\n\u001b[0m\u001b[0;32m      6\u001b[0m   \u001b[0mline\u001b[0m \u001b[1;33m=\u001b[0m \u001b[0mfp\u001b[0m\u001b[1;33m.\u001b[0m\u001b[0mreadline\u001b[0m\u001b[1;33m(\u001b[0m\u001b[1;33m)\u001b[0m\u001b[1;33m\u001b[0m\u001b[0m\n\u001b[0;32m      7\u001b[0m   \u001b[1;32mwhile\u001b[0m \u001b[0mline\u001b[0m\u001b[1;33m:\u001b[0m\u001b[1;33m\u001b[0m\u001b[0m\n",
      "\u001b[1;31mIOError\u001b[0m: [Errno 2] No such file or directory: '18thOfJuly.txt'"
     ]
    }
   ],
   "source": [
    "stopwords = set(stopwords.words('english'))\n",
    "fileIn = '18thOfJuly.txt'  \n",
    "fileOut = initOutput(fileIn)\n",
    "\n",
    "with open(fileIn) as fp:  \n",
    "  line = fp.readline()\n",
    "  while line:\n",
    "    if (len(line)) >= 10:\n",
    "      getEmotion(line, fileOut)\n",
    "      # countWords(line, fileOut)\n",
    "    line = fp.readline()"
   ]
  },
  {
   "cell_type": "code",
   "execution_count": null,
   "metadata": {
    "collapsed": true
   },
   "outputs": [],
   "source": []
  }
 ],
 "metadata": {
  "kernelspec": {
   "display_name": "Python 2",
   "language": "python",
   "name": "python2"
  },
  "language_info": {
   "codemirror_mode": {
    "name": "ipython",
    "version": 2
   },
   "file_extension": ".py",
   "mimetype": "text/x-python",
   "name": "python",
   "nbconvert_exporter": "python",
   "pygments_lexer": "ipython2",
   "version": "2.7.14"
  }
 },
 "nbformat": 4,
 "nbformat_minor": 2
}
