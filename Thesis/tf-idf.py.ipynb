{
 "cells": [
  {
   "cell_type": "code",
   "execution_count": 13,
   "metadata": {
    "collapsed": true
   },
   "outputs": [],
   "source": [
    "from nltk.corpus import stopwords\n",
    "import re\n",
    "import math\n",
    "import pandas as pd"
   ]
  },
  {
   "cell_type": "code",
   "execution_count": 2,
   "metadata": {
    "collapsed": true
   },
   "outputs": [],
   "source": [
    "stop = set(stopwords.words('english'))"
   ]
  },
  {
   "cell_type": "code",
   "execution_count": 3,
   "metadata": {
    "collapsed": true
   },
   "outputs": [],
   "source": [
    "sentence_array = []\n",
    "with open('docs.txt') as my_file:\n",
    "    for line in my_file:\n",
    "        line = line.strip()\n",
    "        sentence_array.append(line)"
   ]
  },
  {
   "cell_type": "code",
   "execution_count": 4,
   "metadata": {
    "collapsed": true
   },
   "outputs": [],
   "source": [
    "splitted_array = []\n",
    "for item in range(len(sentence_array)):\n",
    "    splitted_array.append(sentence_array[item].split(\" \"))"
   ]
  },
  {
   "cell_type": "code",
   "execution_count": 5,
   "metadata": {
    "collapsed": true
   },
   "outputs": [],
   "source": [
    "wordset = []\n",
    "for item in range(len(splitted_array)):\n",
    "    nextVal = item + 1\n",
    "    if nextVal < len(splitted_array):\n",
    "        wordset = set(wordset).union(set(splitted_array[item]).union(set(splitted_array[item + 1])))"
   ]
  },
  {
   "cell_type": "code",
   "execution_count": 6,
   "metadata": {
    "collapsed": true
   },
   "outputs": [],
   "source": [
    "wordset.remove('')"
   ]
  },
  {
   "cell_type": "code",
   "execution_count": 7,
   "metadata": {
    "collapsed": true
   },
   "outputs": [],
   "source": [
    "wordDict = []\n",
    "for items in range(len(splitted_array)):\n",
    "    wordDict.append(dict.fromkeys(wordset, 0))"
   ]
  },
  {
   "cell_type": "code",
   "execution_count": 8,
   "metadata": {
    "collapsed": true
   },
   "outputs": [],
   "source": [
    "for word in wordset:\n",
    "    for idx, sa in enumerate(splitted_array):\n",
    "        if word in sa:\n",
    "            wordDict[idx][word] = sa.count(word)/float(len(splitted_array[idx]))"
   ]
  },
  {
   "cell_type": "code",
   "execution_count": 26,
   "metadata": {},
   "outputs": [
    {
     "data": {
      "text/plain": [
       "0"
      ]
     },
     "execution_count": 26,
     "metadata": {},
     "output_type": "execute_result"
    }
   ],
   "source": [
    "wordDict.count('i')"
   ]
  },
  {
   "cell_type": "code",
   "execution_count": 10,
   "metadata": {
    "collapsed": true
   },
   "outputs": [],
   "source": [
    "idfs = {}\n",
    "N = len(splitted_array)\n",
    "\n",
    "idfs = dict.fromkeys(wordset, 0)\n",
    "\n",
    "for word in wordset:\n",
    "    for idx, sa in enumerate(splitted_array):\n",
    "        if word in sa:\n",
    "            idfs[word]+=1\n",
    "\n",
    "for key, value in idfs.iteritems():\n",
    "    idfs[key] = math.log(N/float(value))"
   ]
  },
  {
   "cell_type": "code",
   "execution_count": 11,
   "metadata": {
    "collapsed": true
   },
   "outputs": [],
   "source": [
    "wordDictTFIDF = []\n",
    "for items in range(len(splitted_array)):\n",
    "    wordDictTFIDF.append(dict.fromkeys(wordset, 0))\n",
    "\n",
    "for word in wordset:\n",
    "    for idx, sa in enumerate(splitted_array):\n",
    "        wordDictTFIDF[idx][word] = wordDict[idx][word]/(float(idfs[word]))"
   ]
  },
  {
   "cell_type": "code",
   "execution_count": 14,
   "metadata": {},
   "outputs": [],
   "source": [
    "df = pd.DataFrame(wordDictTFIDF)"
   ]
  },
  {
   "cell_type": "code",
   "execution_count": 15,
   "metadata": {
    "collapsed": true
   },
   "outputs": [],
   "source": [
    "df.to_csv('tf-idf.csv', encoding='utf-8', index=False)"
   ]
  },
  {
   "cell_type": "code",
   "execution_count": null,
   "metadata": {
    "collapsed": true
   },
   "outputs": [],
   "source": []
  }
 ],
 "metadata": {
  "kernelspec": {
   "display_name": "Python 2",
   "language": "python",
   "name": "python2"
  },
  "language_info": {
   "codemirror_mode": {
    "name": "ipython",
    "version": 2
   },
   "file_extension": ".py",
   "mimetype": "text/x-python",
   "name": "python",
   "nbconvert_exporter": "python",
   "pygments_lexer": "ipython2",
   "version": "2.7.14"
  }
 },
 "nbformat": 4,
 "nbformat_minor": 2
}
