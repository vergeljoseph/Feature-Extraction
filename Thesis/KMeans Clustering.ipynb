{
 "cells": [
  {
   "cell_type": "code",
   "execution_count": 246,
   "metadata": {
    "collapsed": true
   },
   "outputs": [],
   "source": [
    "import numpy as np\n",
    "import matplotlib.pyplot as plot\n",
    "import pandas as pd\n",
    "from sklearn.cluster import KMeans\n",
    "from sklearn.neighbors import NearestNeighbors\n",
    "from random import sample\n",
    "from numpy.random import uniform\n",
    "from math import isnan"
   ]
  },
  {
   "cell_type": "code",
   "execution_count": 247,
   "metadata": {
    "collapsed": true
   },
   "outputs": [],
   "source": [
    "import warnings\n",
    "import matplotlib.cm  as cm\n",
    "from sklearn import decomposition\n",
    "from IPython.display import display\n",
    "from sklearn import metrics # for evaluations\n",
    "from sklearn.datasets import make_blobs, make_circles # for generating experimental data\n",
    "from sklearn.preprocessing import StandardScaler # for feature scaling\n",
    "from sklearn.cluster import KMeans \n",
    "from sklearn.cluster import DBSCAN\n",
    "import csv\n",
    "import pandas as pd\n",
    "\n",
    "# make matplotlib plot inline (Only in Ipython).\n",
    "warnings.filterwarnings('ignore')\n",
    "%matplotlib inline"
   ]
  },
  {
   "cell_type": "code",
   "execution_count": 248,
   "metadata": {
    "collapsed": true
   },
   "outputs": [],
   "source": [
    "dataset = pd.read_csv('user_features.csv')\n",
    "\n",
    "X = dataset.loc[:,['joy_ave',\n",
    "                   'joy_max',\n",
    "                   'anger_ave',\n",
    "                   'anger_max',\n",
    "                   'sad_ave',\n",
    "                   'sad_max',\n",
    "                   'fear_ave',\n",
    "                   'fear_max',\n",
    "                   'score',\n",
    "                   'words',\n",
    "                   'posts']]"
   ]
  },
  {
   "cell_type": "code",
   "execution_count": 249,
   "metadata": {
    "collapsed": true
   },
   "outputs": [],
   "source": [
    "def hopkins(X):\n",
    "    d = X.shape[1]\n",
    "    n = len(X)\n",
    "    m = int(0.1 * n) \n",
    "    nbrs = NearestNeighbors(n_neighbors=1).fit(X)\n",
    " \n",
    "    rand_X = sample(range(0, n, 1), m)\n",
    " \n",
    "    ujd = []\n",
    "    wjd = []\n",
    "    for j in range(0, m):\n",
    "        u_dist, _ = nbrs.kneighbors(uniform(np.amin(X,axis=0),np.amax(X,axis=0),d).reshape(1, -1), 2, return_distance=True)\n",
    "        ujd.append(u_dist[0][1])\n",
    "        w_dist, _ = nbrs.kneighbors(X.iloc[rand_X[j]].values.reshape(1, -1), 2, return_distance=True)\n",
    "        wjd.append(w_dist[0][1])\n",
    " \n",
    "    H = sum(ujd) / (sum(ujd) + sum(wjd))\n",
    "    if isnan(H):\n",
    "        print ujd, wjd\n",
    "        H = 0\n",
    "\n",
    "    return H"
   ]
  },
  {
   "cell_type": "code",
   "execution_count": 250,
   "metadata": {
    "collapsed": true
   },
   "outputs": [],
   "source": [
    "wcss = []\n",
    "\n",
    "for i in range(1, 16): \n",
    "    kmeans = KMeans(n_clusters = i, init = 'k-means++', random_state = 0) \n",
    "    kmeans.fit(X) \n",
    "    wcss.append(kmeans.inertia_)"
   ]
  },
  {
   "cell_type": "code",
   "execution_count": 251,
   "metadata": {},
   "outputs": [
    {
     "data": {
      "image/png": "[encoded data removed]",
      "text/plain": [
       "<matplotlib.figure.Figure at 0x11160438>"
      ]
     },
     "metadata": {},
     "output_type": "display_data"
    }
   ],
   "source": [
    "plot.plot(range(1,16), wcss) \n",
    "plot.title('Elbow Method') \n",
    "plot.xlabel('Number of clusters') \n",
    "plot.ylabel('WCSS') \n",
    "plot.show()"
   ]
  },
  {
   "cell_type": "code",
   "execution_count": 252,
   "metadata": {
    "collapsed": true
   },
   "outputs": [],
   "source": [
    "#KMeans CLustering\n",
    "\n",
    "kmeans = KMeans(n_clusters = 2, init = 'k-means++', random_state = 0)\n",
    "\n",
    "y = kmeans.fit_predict(X)"
   ]
  },
  {
   "cell_type": "code",
   "execution_count": 253,
   "metadata": {},
   "outputs": [
    {
     "data": {
      "text/plain": [
       "array([0, 0, 0, 0, 0, 1, 0, 0, 0, 0, 0, 0, 0, 0, 0, 0, 0, 0, 0, 0, 0, 0, 0,\n",
       "       0, 0, 0, 0, 0, 0, 0, 0, 0, 0, 0, 0, 0, 1, 1, 0, 0, 0, 0, 0, 0, 0, 0,\n",
       "       0, 0, 0, 0, 0, 0, 0, 0, 0, 0, 0, 0, 0, 0, 0, 0, 0, 0, 0, 0, 0, 1, 0,\n",
       "       1, 0, 0, 0, 0, 0, 0, 0])"
      ]
     },
     "execution_count": 253,
     "metadata": {},
     "output_type": "execute_result"
    }
   ],
   "source": [
    "y"
   ]
  },
  {
   "cell_type": "code",
   "execution_count": 268,
   "metadata": {},
   "outputs": [
    {
     "name": "stdout",
     "output_type": "stream",
     "text": [
      "0.901206406754\n"
     ]
    }
   ],
   "source": [
    "#Hopkins Value\n",
    "print(hopkins(X))"
   ]
  },
  {
   "cell_type": "code",
   "execution_count": 271,
   "metadata": {},
   "outputs": [
    {
     "data": {
      "image/png": "[encoded data removed]",
      "text/plain": [
       "<matplotlib.figure.Figure at 0x15dc6080>"
      ]
     },
     "metadata": {},
     "output_type": "display_data"
    }
   ],
   "source": [
    "# List of number of clusters\n",
    "range_n_clusters = [2]\n",
    "for n_clusters in range_n_clusters:\n",
    "    \n",
    "    # Perform k-means.\n",
    "    kmeans = KMeans(n_clusters = n_clusters, random_state = 0)\n",
    "    y_pred = kmeans.fit_predict(X)\n",
    "    \n",
    "    # Compute the Silhouette Coefficient for each sample.\n",
    "    s = metrics.silhouette_samples(X, y_pred)\n",
    "    \n",
    "    # Compute the mean Silhouette Coefficient of all data points.\n",
    "    s_mean = metrics.silhouette_score(X, y_pred,metric='euclidean')\n",
    "    \n",
    "    # For plot configuration\n",
    "    fig, (ax1) = plot.subplots(1)\n",
    "    fig.set_size_inches(10, 7)\n",
    "    \n",
    "    # Configure plot.\n",
    "    plot.suptitle('Silhouette analysis for K-Means clustering with n_clusters: {}'.format(n_clusters), \n",
    "                  fontsize=14, fontweight='bold')\n",
    "    \n",
    "    # Configure 1st subplot.\n",
    "    ax1.set_title('Silhouette Coefficient for each sample. Mean Silhouette score: {}'.format(s_mean))\n",
    "    ax1.set_xlabel(\"The silhouette coefficient values\")\n",
    "    ax1.set_ylabel(\"Cluster label\")\n",
    "    ax1.set_xlim([0, 1])\n",
    "    ax1.set_ylim([0, len(X) + (n_clusters + 1) * 10])\n",
    "    \n",
    "    # Plot Silhouette Coefficient for each sample\n",
    "    y_lower = 10\n",
    "    for i in range(n_clusters):\n",
    "        ith_s = s[y_pred == i]\n",
    "        ith_s.sort()\n",
    "        size_cluster_i = ith_s.shape[0]\n",
    "        y_upper = y_lower + size_cluster_i\n",
    "        color = cm.spectral(float(i)/n_clusters)\n",
    "        ax1.fill_betweenx(np.arange(y_lower, y_upper),\n",
    "                          0,\n",
    "                          ith_s,\n",
    "                          facecolor = color,\n",
    "                          edgecolor = color, \n",
    "                          alpha = 0.5)\n",
    "        ax1.text(-0.05, \n",
    "                 y_lower + 0.5 * size_cluster_i, \n",
    "                 str(i))\n",
    "        y_lower = y_upper + 10\n",
    "        \n",
    "    # Plot the mean Silhouette Coefficient using red vertical dash line.\n",
    "    ax1.axvline(x=s_mean, color = \"red\", linestyle = \"--\")\n",
    "    \n",
    "    # Plot the predictions\n",
    "    colors = cm.spectral(y_pred.astype(float) / n_clusters)"
   ]
  },
  {
   "cell_type": "code",
   "execution_count": null,
   "metadata": {
    "collapsed": true
   },
   "outputs": [],
   "source": []
  }
 ],
 "metadata": {
  "kernelspec": {
   "display_name": "Python 2",
   "language": "python",
   "name": "python2"
  },
  "language_info": {
   "codemirror_mode": {
    "name": "ipython",
    "version": 2
   },
   "file_extension": ".py",
   "mimetype": "text/x-python",
   "name": "python",
   "nbconvert_exporter": "python",
   "pygments_lexer": "ipython2",
   "version": "2.7.14"
  }
 },
 "nbformat": 4,
 "nbformat_minor": 2
}
