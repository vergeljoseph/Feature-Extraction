{
 "cells": [
  {
   "cell_type": "code",
   "execution_count": 76,
   "metadata": {
    "collapsed": true
   },
   "outputs": [],
   "source": [
    "import numpy as np\n",
    "import matplotlib.pyplot as plot\n",
    "import pandas as pd\n",
    "from sklearn.cluster import KMeans"
   ]
  },
  {
   "cell_type": "code",
   "execution_count": 77,
   "metadata": {},
   "outputs": [],
   "source": [
    "dataset = pd.read_csv('user_results.csv')\n",
    "\n",
    "X = dataset.loc[:,['emotion_joy', \n",
    "                   'emotion_anger',\n",
    "                   'emotion_sadness',\n",
    "                   'emotion_fear',\n",
    "                   'sentiment_score',\n",
    "                   'no_of_words']].values"
   ]
  },
  {
   "cell_type": "code",
   "execution_count": 78,
   "metadata": {},
   "outputs": [],
   "source": [
    "wcss = []\n",
    "\n",
    "for i in range(1, 16): \n",
    "    kmeans = KMeans(n_clusters = i, init = 'k-means++', random_state = 0) \n",
    "    kmeans.fit(X) \n",
    "    wcss.append(kmeans.inertia_)"
   ]
  },
  {
   "cell_type": "code",
   "execution_count": 79,
   "metadata": {},
   "outputs": [
    {
     "data": {
      "image/png": "[encoded data removed]",
      "text/plain": [
       "<matplotlib.figure.Figure at 0xf4674e0>"
      ]
     },
     "metadata": {},
     "output_type": "display_data"
    }
   ],
   "source": [
    "plot.plot(range(1,16), wcss) \n",
    "plot.title('Elbow Method') \n",
    "plot.xlabel('Number of clusters') \n",
    "plot.ylabel('WCSS') \n",
    "plot.show()"
   ]
  },
  {
   "cell_type": "code",
   "execution_count": 80,
   "metadata": {
    "collapsed": true
   },
   "outputs": [],
   "source": [
    "#KMeans CLustering\n",
    "\n",
    "kmeans = KMeans(n_clusters = 3, init = 'k-means++', random_state = 0)\n",
    "\n",
    "y = kmeans.fit_predict(X)"
   ]
  },
  {
   "cell_type": "code",
   "execution_count": 82,
   "metadata": {},
   "outputs": [
    {
     "data": {
      "text/plain": [
       "array([0, 0, 0, 2, 0, 0, 0, 2, 0, 1, 0, 0, 0, 0, 2, 0, 0, 0, 0, 0, 2, 0, 2,\n",
       "       0, 1, 2, 0])"
      ]
     },
     "execution_count": 82,
     "metadata": {},
     "output_type": "execute_result"
    }
   ],
   "source": [
    "y"
   ]
  },
  {
   "cell_type": "code",
   "execution_count": 85,
   "metadata": {},
   "outputs": [
    {
     "data": {
      "image/png": "[encoded data removed]",
      "text/plain": [
       "<matplotlib.figure.Figure at 0x119b3b00>"
      ]
     },
     "metadata": {},
     "output_type": "display_data"
    }
   ],
   "source": [
    "#KMeans CLustering\n",
    "\n",
    "plot.scatter(X[y == 0, 0], X[y == 0,1], \n",
    "             s = 50, \n",
    "             c = 'yellow', \n",
    "             label = 'Cluster A', \n",
    "             alpha = 0.5)\n",
    "plot.scatter(X[y == 1, 0], X[y == 1,1], \n",
    "             s = 50, \n",
    "             c = 'cyan', \n",
    "             label = 'Cluster B', \n",
    "             alpha = 0.5)\n",
    "plot.scatter(X[y == 2, 0], X[y == 2,1], \n",
    "             s = 50, \n",
    "             c = 'magenta', \n",
    "             label = 'Cluster C', \n",
    "             alpha = 0.5)\n",
    "\n",
    "plot.scatter(kmeans.cluster_centers_[:,0],\n",
    "             kmeans.cluster_centers_[:,1],\n",
    "             s = 100,\n",
    "             marker = '*', \n",
    "             c = '#050505',\n",
    "             alpha = 0.5,\n",
    "             label = 'Centroid')\n",
    "\n",
    "\n",
    "plot.title('emotion_sadness vs. no_of_words_in_a_tweet')\n",
    "plot.xlabel('emotion_sadness')\n",
    "plot.ylabel('no_of_words_in_a_tweet')\n",
    "plot.legend()\n",
    "plot.show()"
   ]
  },
  {
   "cell_type": "code",
   "execution_count": null,
   "metadata": {
    "collapsed": true
   },
   "outputs": [],
   "source": []
  }
 ],
 "metadata": {
  "kernelspec": {
   "display_name": "Python 2",
   "language": "python",
   "name": "python2"
  },
  "language_info": {
   "codemirror_mode": {
    "name": "ipython",
    "version": 2
   },
   "file_extension": ".py",
   "mimetype": "text/x-python",
   "name": "python",
   "nbconvert_exporter": "python",
   "pygments_lexer": "ipython2",
   "version": "2.7.14"
  }
 },
 "nbformat": 4,
 "nbformat_minor": 2
}
